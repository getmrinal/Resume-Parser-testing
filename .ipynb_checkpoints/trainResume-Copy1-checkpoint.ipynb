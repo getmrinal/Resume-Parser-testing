{
 "cells": [
  {
   "cell_type": "code",
   "execution_count": 3,
   "metadata": {},
   "outputs": [],
   "source": [
    "import json\n",
    "import random\n",
    "import logging\n",
    "from sklearn.metrics import classification_report\n",
    "from sklearn.metrics import precision_recall_fscore_support\n",
    "from spacy.gold import GoldParse\n",
    "from spacy.scorer import Scorer\n",
    "from sklearn.metrics import accuracy_score\n",
    "import spacy\n",
    "from spacy.lang.en import English "
   ]
  },
  {
   "cell_type": "code",
   "execution_count": 4,
   "metadata": {},
   "outputs": [],
   "source": [
    "def convert_dataturks_to_spacy(dataturks_JSON_FilePath):\n",
    "    try:\n",
    "        training_data = []\n",
    "        lines=[]\n",
    "        with open(dataturks_JSON_FilePath, 'r') as f:\n",
    "            lines = f.readlines()\n",
    "\n",
    "        for line in lines:\n",
    "            data = json.loads(line)\n",
    "            text = data['content']\n",
    "            entities = []\n",
    "            for annotation in data['annotation']:\n",
    "                #only a single point in text annotation.\n",
    "                point = annotation['points'][0]\n",
    "                labels = annotation['label']\n",
    "                # handle both list of labels or a single label.\n",
    "                if not isinstance(labels, list):\n",
    "                    labels = [labels]\n",
    "\n",
    "                for label in labels:\n",
    "                    #dataturks indices are both inclusive [start, end] but spacy is not [start, end)\n",
    "                    entities.append((point['start'], point['end'] + 1 ,label))\n",
    "\n",
    "\n",
    "            training_data.append((text, {\"entities\" : entities}))\n",
    "\n",
    "        return training_data\n",
    "    except Exception as e:\n",
    "        logging.exception(\"Unable to process \" + dataturks_JSON_FilePath + \"\\n\" + \"error = \" + str(e))\n",
    "        return None"
   ]
  },
  {
   "cell_type": "code",
   "execution_count": 6,
   "metadata": {},
   "outputs": [],
   "source": [
    "def train_spacy():\n",
    "\n",
    "    TRAIN_DATA = convert_dataturks_to_spacy(\"traindata.json\")\n",
    "    nlp = English()  # create blank Language class\n",
    "    # create the built-in pipeline components and add them to the pipeline\n",
    "    # nlp.create_pipe works for built-ins that are registered with spaCy\n",
    "    if 'ner' not in nlp.pipe_names:\n",
    "        ner = nlp.create_pipe('ner')\n",
    "        nlp.add_pipe(ner, last=True)\n",
    "       \n",
    "\n",
    "    # add labels\n",
    "    for _, annotations in TRAIN_DATA:\n",
    "         for ent in annotations.get('entities'):\n",
    "            ner.add_label(ent[2])\n",
    "\n",
    "    # get names of other pipes to disable them during training\n",
    "    other_pipes = [pipe for pipe in nlp.pipe_names if pipe != 'ner']\n",
    "    with nlp.disable_pipes(*other_pipes):  # only train NER\n",
    "        optimizer = nlp.begin_training()\n",
    "        for itn in range(10):\n",
    "            print(\"Statring iteration \" + str(itn))\n",
    "            random.shuffle(TRAIN_DATA)\n",
    "            losses = {}\n",
    "            for text, annotations in TRAIN_DATA:\n",
    "                nlp.update(\n",
    "                    [text],  # batch of texts\n",
    "                    [annotations],  # batch of annotations\n",
    "                    drop=0.2,  # dropout - make it harder to memorise data\n",
    "                    sgd=optimizer,  # callable to update weights\n",
    "                    losses=losses)\n",
    "            print(losses)\n",
    "    #test the model and evaluate it\n",
    "    examples = convert_dataturks_to_spacy(\"testdata.json\")\n",
    "    tp=0\n",
    "    tr=0\n",
    "    tf=0\n",
    "\n",
    "    ta=0\n",
    "    c=0        \n",
    "    for text,annot in examples:\n",
    "\n",
    "        f=open(\"resume\"+str(c)+\".txt\",\"w\")\n",
    "        doc_to_test=nlp(text)\n",
    "        d={}\n",
    "        for ent in doc_to_test.ents:\n",
    "            d[ent.label_]=[]\n",
    "        for ent in doc_to_test.ents:\n",
    "            d[ent.label_].append(ent.text)\n",
    "\n",
    "        for i in set(d.keys()):\n",
    "\n",
    "            f.write(\"\\n\\n\")\n",
    "            f.write(i +\":\"+\"\\n\")\n",
    "            for j in set(d[i]):\n",
    "                f.write(j.replace('\\n','')+\"\\n\")\n",
    "        d={}\n",
    "        for ent in doc_to_test.ents:\n",
    "            d[ent.label_]=[0,0,0,0,0,0]\n",
    "        for ent in doc_to_test.ents:\n",
    "            doc_gold_text= nlp.make_doc(text)\n",
    "            gold = GoldParse(doc_gold_text, entities=annot.get(\"entities\"))\n",
    "            y_true = [ent.label_ if ent.label_ in x else 'Not '+ent.label_ for x in gold.ner]\n",
    "            y_pred = [x.ent_type_ if x.ent_type_ ==ent.label_ else 'Not '+ent.label_ for x in doc_to_test]  \n",
    "            if(d[ent.label_][0]==0):\n",
    "                #f.write(\"For Entity \"+ent.label_+\"\\n\")   \n",
    "                #f.write(classification_report(y_true, y_pred)+\"\\n\")\n",
    "                (p,r,f,s)= precision_recall_fscore_support(y_true,y_pred,average='weighted')\n",
    "                a=accuracy_score(y_true,y_pred)\n",
    "                d[ent.label_][0]=1\n",
    "                d[ent.label_][1]+=p\n",
    "                d[ent.label_][2]+=r\n",
    "                d[ent.label_][3]+=f\n",
    "                d[ent.label_][4]+=a\n",
    "                d[ent.label_][5]+=1\n",
    "        c+=1\n",
    "    for i in d:\n",
    "        print(\"\\n For Entity \"+i+\"\\n\")\n",
    "        print(\"Accuracy : \"+str((d[i][4]/d[i][5])*100)+\"%\")\n",
    "        print(\"Precision : \"+str(d[i][1]/d[i][5]))\n",
    "        print(\"Recall : \"+str(d[i][2]/d[i][5]))\n",
    "        print(\"F-score : \"+str(d[i][3]/d[i][5]))"
   ]
  },
  {
   "cell_type": "code",
   "execution_count": 16,
   "metadata": {},
   "outputs": [
    {
     "data": {
      "text/plain": [
       "Apple looking Google is  at buying U.K. startup for $1 billion"
      ]
     },
     "execution_count": 16,
     "metadata": {},
     "output_type": "execute_result"
    }
   ],
   "source": [
    "nlp = spacy.load(\"en_core_web_sm\")\n",
    "doc = nlp(\"Apple looking Google is  at buying U.K. startup for $1 billion\")\n",
    "doc"
   ]
  },
  {
   "cell_type": "code",
   "execution_count": 17,
   "metadata": {},
   "outputs": [
    {
     "name": "stdout",
     "output_type": "stream",
     "text": [
      "Apple 0 5 ORG\n",
      "Google 14 20 ORG\n",
      "U.K. 35 39 GPE\n",
      "$1 billion 52 62 MONEY\n"
     ]
    }
   ],
   "source": [
    "for ent in doc.ents:\n",
    "    print(ent.text, ent.start_char, ent.end_char, ent.label_)"
   ]
  },
  {
   "cell_type": "code",
   "execution_count": null,
   "metadata": {},
   "outputs": [],
   "source": []
  },
  {
   "cell_type": "code",
   "execution_count": null,
   "metadata": {},
   "outputs": [],
   "source": []
  }
 ],
 "metadata": {
  "kernelspec": {
   "display_name": "Python 3",
   "language": "python",
   "name": "python3"
  },
  "language_info": {
   "codemirror_mode": {
    "name": "ipython",
    "version": 3
   },
   "file_extension": ".py",
   "mimetype": "text/x-python",
   "name": "python",
   "nbconvert_exporter": "python",
   "pygments_lexer": "ipython3",
   "version": "3.7.4"
  }
 },
 "nbformat": 4,
 "nbformat_minor": 2
}
